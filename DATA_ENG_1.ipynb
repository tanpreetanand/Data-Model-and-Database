{
 "cells": [
  {
   "cell_type": "markdown",
   "id": "e90a0e5e",
   "metadata": {},
   "source": [
    "## Ceating Table with PostgreSQL"
   ]
  },
  {
   "cell_type": "code",
   "execution_count": null,
   "id": "f207601f",
   "metadata": {},
   "outputs": [],
   "source": [
    "pip install psycopg2-binary"
   ]
  },
  {
   "cell_type": "markdown",
   "id": "f40c4563",
   "metadata": {},
   "source": [
    "#### Import the required library"
   ]
  },
  {
   "cell_type": "code",
   "execution_count": null,
   "id": "2186a6ee",
   "metadata": {},
   "outputs": [],
   "source": [
    "import psycopg2"
   ]
  },
  {
   "cell_type": "markdown",
   "id": "eb0d11ae",
   "metadata": {},
   "source": [
    "#### Creating connection with the database "
   ]
  },
  {
   "cell_type": "code",
   "execution_count": null,
   "id": "cdbae17c",
   "metadata": {},
   "outputs": [],
   "source": [
    "try:\n",
    "    conn = psycopg2.connect(\"host = 127.0.0.1 dbname = postgres user = postgres password = Keerat@321a\")\n",
    "except psycopg2.Error as e:\n",
    "    print(\"Error: Could not make connection to the Postgres database\")\n",
    "    print(e)"
   ]
  },
  {
   "cell_type": "markdown",
   "id": "78ff27fd",
   "metadata": {},
   "source": [
    "#### Using the connection to get a cursor that can be use to execute queries"
   ]
  },
  {
   "cell_type": "code",
   "execution_count": null,
   "id": "c41fdf48",
   "metadata": {},
   "outputs": [],
   "source": [
    "try:\n",
    "    cur = conn.cursor()\n",
    "except psycopg2.Error as e:\n",
    "    print(\"Error: Could not get cursor to the Database\")\n",
    "    print(e)"
   ]
  },
  {
   "cell_type": "markdown",
   "id": "49770b70",
   "metadata": {},
   "source": [
    "#### Setting up the automatic commit to be true so taht each action is committed wihout having to call conn.commit() after each command. "
   ]
  },
  {
   "cell_type": "code",
   "execution_count": null,
   "id": "9fcfc8f2",
   "metadata": {},
   "outputs": [],
   "source": [
    "conn.set_session(autocommit = True)"
   ]
  },
  {
   "cell_type": "markdown",
   "id": "5977c752",
   "metadata": {},
   "source": [
    "#### Creating a database to do the work in  "
   ]
  },
  {
   "cell_type": "code",
   "execution_count": null,
   "id": "f77b4c7a",
   "metadata": {},
   "outputs": [],
   "source": [
    "try:\n",
    "    cur.execute(\"create database myfirstdb\")\n",
    "except psycopg2.Error as e:\n",
    "    print(e)"
   ]
  },
  {
   "cell_type": "markdown",
   "id": "95cdabdc",
   "metadata": {},
   "source": [
    "#### Add the database name in the connect statement. \n",
    "#### Let's close our connection to the default database, reconnect to the udacity  database and get a new cursor. "
   ]
  },
  {
   "cell_type": "code",
   "execution_count": null,
   "id": "14399654",
   "metadata": {},
   "outputs": [],
   "source": [
    "try:\n",
    "    conn.close()\n",
    "except psycopg2.Error as e:\n",
    "    print(e)\n",
    "    \n",
    "try:\n",
    "    conn = psycopg2.connect(\"host = 127.0.0.1 dbname = myfirstdb user = postgres password = Keerat@321a\")\n",
    "except psycopg2.Error as e:\n",
    "    print(\"Error: Could not make connection to the Postgres database\")\n",
    "    print(e)   \n",
    "    \n",
    "try:\n",
    "    cur = conn.cursor()\n",
    "except psycopg2.Error as e:\n",
    "    print(\"Error: Could not get cursor to the Database\")\n",
    "    print(e)\n",
    "    \n",
    "conn.set_session(autocommit = True)    "
   ]
  },
  {
   "cell_type": "markdown",
   "id": "4026459c",
   "metadata": {},
   "source": [
    "#### Create Table for students with some columns"
   ]
  },
  {
   "cell_type": "code",
   "execution_count": null,
   "id": "f98dff5e",
   "metadata": {},
   "outputs": [],
   "source": [
    "try: \n",
    "    cur.execute(\"CREATE TABLE IF NOT EXISTS Students (Student_id int, name varchar, age int, gender varchar, subject varchar, marks int);\")\n",
    "except psycopg2.Error as e:\n",
    "    print(\"Error: Issue creating table\")\n",
    "    print(e)"
   ]
  },
  {
   "cell_type": "markdown",
   "id": "365a0071",
   "metadata": {},
   "source": [
    "#### Insert the rows in the table "
   ]
  },
  {
   "cell_type": "code",
   "execution_count": null,
   "id": "8deda6fc",
   "metadata": {},
   "outputs": [],
   "source": [
    "try:\n",
    "    cur.execute (\"INSERT INTO students (student_id, name, age, gender, subject, marks) VALUES (%s, %s, %s, %s, %s, %s)\", (1, \"Singh\", 33, \"Male\", \"Python\", 85))\n",
    "except psycopg2.Error as e:\n",
    "    print (\"Error: Inserting Rows\")\n",
    "    print (e)\n",
    "    \n",
    "try:\n",
    "    cur.execute (\"INSERT INTO students (student_id, name, age, gender, subject, marks) VALUES (%s, %s, %s, %s, %s, %s)\", (2, \"WILLIAM\", 31, \"Male\", \"SQL\", 80))\n",
    "except psycopg2.Error as e:\n",
    "    print (\"Error: Inserting Rows\")\n",
    "    print (e)    "
   ]
  },
  {
   "cell_type": "markdown",
   "id": "b94c6c75",
   "metadata": {},
   "source": [
    "#### Validate your data was insert into the table  "
   ]
  },
  {
   "cell_type": "code",
   "execution_count": null,
   "id": "c9c23a13",
   "metadata": {},
   "outputs": [],
   "source": [
    "try:\n",
    "    cur.execute(\"SELECT * FROM students;\")\n",
    "except psycopg2.Error as e:\n",
    "    print (\"Error: select *\")\n",
    "    print (e)\n",
    "    \n",
    "row = cur.fetchone()\n",
    "while row:\n",
    "    print(row)\n",
    "    row = cur.fetchone()"
   ]
  },
  {
   "cell_type": "markdown",
   "id": "e68277d2",
   "metadata": {},
   "source": [
    "#### Finally close your cursor and connection"
   ]
  },
  {
   "cell_type": "code",
   "execution_count": null,
   "id": "97070932",
   "metadata": {},
   "outputs": [],
   "source": [
    "cur.close()\n",
    "conn.close()"
   ]
  },
  {
   "cell_type": "code",
   "execution_count": null,
   "id": "ac4bfa83",
   "metadata": {},
   "outputs": [],
   "source": []
  }
 ],
 "metadata": {
  "kernelspec": {
   "display_name": "Python 3 (ipykernel)",
   "language": "python",
   "name": "python3"
  },
  "language_info": {
   "codemirror_mode": {
    "name": "ipython",
    "version": 3
   },
   "file_extension": ".py",
   "mimetype": "text/x-python",
   "name": "python",
   "nbconvert_exporter": "python",
   "pygments_lexer": "ipython3",
   "version": "3.9.7"
  }
 },
 "nbformat": 4,
 "nbformat_minor": 5
}
