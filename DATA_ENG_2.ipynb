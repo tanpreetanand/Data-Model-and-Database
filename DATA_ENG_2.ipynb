{
 "cells": [
  {
   "cell_type": "markdown",
   "id": "24c684a5",
   "metadata": {},
   "source": [
    "#### Import Libraries"
   ]
  },
  {
   "cell_type": "code",
   "execution_count": null,
   "id": "bb6f4b8c",
   "metadata": {},
   "outputs": [],
   "source": [
    "import psycopg2\n",
    "import pandas as pd "
   ]
  },
  {
   "cell_type": "markdown",
   "id": "b9fcde20",
   "metadata": {},
   "source": [
    "#### Creating function for database"
   ]
  },
  {
   "cell_type": "code",
   "execution_count": null,
   "id": "251087ff",
   "metadata": {},
   "outputs": [],
   "source": [
    "def create_database():\n",
    "    \n",
    "    #### Connect to default database\n",
    "    \n",
    "    conn = psycopg2.connect(\"host = 127.0.01 dbname = postgres user = postgres password = Keerat@321a\")\n",
    "    conn.set_session(autocommit = True)\n",
    "    cur = conn.cursor()\n",
    "    \n",
    "    #### Create sparkify database with UTF8 encoding\n",
    "    \n",
    "    cur.execute (\"DROP DATABASE IF EXISTS accounts\")\n",
    "    cur.execute (\"CREATE DATABASE accounts\")\n",
    "    \n",
    "    #### Close connection to deafault database\n",
    "    \n",
    "    conn.close()\n",
    "    \n",
    "    #### Coonect to sparkify database\n",
    "    \n",
    "    conn = psycopg2.connect(\"host = 127.0.01 dbname = accounts user = postgres password = Keerat@321a\")\n",
    "    cur = conn.cursor()\n",
    "    \n",
    "    return cur, conn"
   ]
  },
  {
   "cell_type": "code",
   "execution_count": null,
   "id": "ba532d2f",
   "metadata": {},
   "outputs": [],
   "source": [
    "def drop_tables (cur, conn):\n",
    "    for query in drop_table_queries:\n",
    "        cur.execute (query)\n",
    "        conn.commit()"
   ]
  },
  {
   "cell_type": "code",
   "execution_count": null,
   "id": "61a1ed2d",
   "metadata": {},
   "outputs": [],
   "source": [
    "def insert_tables (cur, conn):\n",
    "    for query in insert_table_queries:\n",
    "        cur.execute (query)\n",
    "        conn.commit()"
   ]
  },
  {
   "cell_type": "code",
   "execution_count": null,
   "id": "38e25c2c",
   "metadata": {},
   "outputs": [],
   "source": [
    "AccountsCountry = pd.read_csv(\"Wealth-AccountsCountry.csv\")"
   ]
  },
  {
   "cell_type": "code",
   "execution_count": null,
   "id": "68fef89e",
   "metadata": {},
   "outputs": [],
   "source": [
    "AccountsCountry.head()"
   ]
  },
  {
   "cell_type": "code",
   "execution_count": null,
   "id": "508fe481",
   "metadata": {},
   "outputs": [],
   "source": [
    "AccountsCountry.rename(columns = {\"Code\": \"Country Code\"}, inplace =True)\n",
    "\n",
    "AccountsCountry"
   ]
  },
  {
   "cell_type": "code",
   "execution_count": null,
   "id": "64c82afe",
   "metadata": {},
   "outputs": [],
   "source": [
    "AccountsCountry.head()"
   ]
  },
  {
   "cell_type": "code",
   "execution_count": null,
   "id": "28328fb6",
   "metadata": {},
   "outputs": [],
   "source": [
    "AccountsCountry_clean = AccountsCountry[['Country Code', 'Long Name', 'Currency Unit', 'Table Name', 'Short Name']]"
   ]
  },
  {
   "cell_type": "code",
   "execution_count": null,
   "id": "effc8057",
   "metadata": {},
   "outputs": [],
   "source": [
    "AccountsCountry_clean.head()"
   ]
  },
  {
   "cell_type": "code",
   "execution_count": null,
   "id": "15a4b5ca",
   "metadata": {},
   "outputs": [],
   "source": [
    "AccountsData = pd.read_csv(\"Wealth-AccountData.csv\")"
   ]
  },
  {
   "cell_type": "code",
   "execution_count": null,
   "id": "ebfcd105",
   "metadata": {},
   "outputs": [],
   "source": [
    "AccountsData.head()"
   ]
  },
  {
   "cell_type": "code",
   "execution_count": null,
   "id": "bb43f3e8",
   "metadata": {},
   "outputs": [],
   "source": [
    "AccountsData.columns"
   ]
  },
  {
   "cell_type": "code",
   "execution_count": null,
   "id": "80f092ad",
   "metadata": {},
   "outputs": [],
   "source": [
    "AccountsData.rename(columns = {\"Series Name\": \"Indicator Name\", \"Series Code\": \"Indicator Code\"}, inplace =True)\n",
    "\n",
    "AccountsData.head()"
   ]
  },
  {
   "cell_type": "code",
   "execution_count": null,
   "id": "e3524529",
   "metadata": {},
   "outputs": [],
   "source": [
    "AccountsData_clean = AccountsData[['Country Name', 'Country Code', 'Indicator Name', 'Indicator Code']]"
   ]
  },
  {
   "cell_type": "code",
   "execution_count": null,
   "id": "bdb00375",
   "metadata": {},
   "outputs": [],
   "source": [
    "AccountsData_clean.head()"
   ]
  },
  {
   "cell_type": "code",
   "execution_count": null,
   "id": "90c8448e",
   "metadata": {},
   "outputs": [],
   "source": [
    "AccountsSeries = pd.read_csv(\"Wealth-AccountSeries.csv\")"
   ]
  },
  {
   "cell_type": "code",
   "execution_count": null,
   "id": "3112a449",
   "metadata": {},
   "outputs": [],
   "source": [
    "AccountsSeries.head()"
   ]
  },
  {
   "cell_type": "code",
   "execution_count": null,
   "id": "436d104b",
   "metadata": {},
   "outputs": [],
   "source": [
    "AccountsSeries.columns"
   ]
  },
  {
   "cell_type": "code",
   "execution_count": null,
   "id": "38fe8d4e",
   "metadata": {},
   "outputs": [],
   "source": [
    "AccountsSeries_clean = AccountsSeries[['Code', 'Indicator Name', 'Long definition', 'Topic']]"
   ]
  },
  {
   "cell_type": "code",
   "execution_count": null,
   "id": "5ec38e8a",
   "metadata": {},
   "outputs": [],
   "source": [
    "AccountsSeries_clean.head()"
   ]
  },
  {
   "cell_type": "code",
   "execution_count": null,
   "id": "a84381d3",
   "metadata": {},
   "outputs": [],
   "source": [
    "cur, conn = create_database()"
   ]
  },
  {
   "cell_type": "code",
   "execution_count": null,
   "id": "b4642bda",
   "metadata": {},
   "outputs": [],
   "source": [
    "AccountsCountry_table_create = (\"\"\" CREATE TABLE IF NOT EXISTS accountscountry(\n",
    "Country_Code VARCHAR PRIMARY KEY,\n",
    "Long_Name VARCHAR,\n",
    "Currency_Unit VARCHAR, \n",
    "Table_Name VARCHAR,\n",
    "Short_Name VARCHAR\n",
    ")\"\"\")"
   ]
  },
  {
   "cell_type": "code",
   "execution_count": null,
   "id": "c9953ca9",
   "metadata": {},
   "outputs": [],
   "source": [
    "cur.execute(AccountsCountry_table_create)\n",
    "conn.commit()"
   ]
  },
  {
   "cell_type": "code",
   "execution_count": null,
   "id": "35a83ffe",
   "metadata": {},
   "outputs": [],
   "source": [
    "accounts_data_table_create = (\"\"\" CREATE TABLE IF NOT EXISTS accountsdata(\n",
    "Country_Name VARCHAR,\n",
    "Country_Code VARCHAR,\n",
    "Indicator_Name VARCHAR, \n",
    "Indicator_Code VARCHAR\n",
    ")\"\"\")"
   ]
  },
  {
   "cell_type": "code",
   "execution_count": null,
   "id": "3881d332",
   "metadata": {
    "scrolled": true
   },
   "outputs": [],
   "source": [
    "cur.execute(AccountsData_table_create)\n",
    "conn.commit()"
   ]
  },
  {
   "cell_type": "code",
   "execution_count": null,
   "id": "ba3a06d5",
   "metadata": {},
   "outputs": [],
   "source": [
    "AccountSeries_data_table_create = (\"\"\" CREATE TABLE IF NOT EXISTS accountseries(\n",
    "Code VARCHAR,\n",
    "Indicator_Name VARCHAR,\n",
    "Long_defination VARCHAR,\n",
    "Topic VARCHAR\n",
    ")\"\"\")"
   ]
  },
  {
   "cell_type": "code",
   "execution_count": null,
   "id": "59fa0be3",
   "metadata": {},
   "outputs": [],
   "source": [
    "cur.execute(AccountSeries_data_table_create)\n",
    "conn.commit()"
   ]
  },
  {
   "cell_type": "code",
   "execution_count": null,
   "id": "5aac8864",
   "metadata": {},
   "outputs": [],
   "source": [
    "AccountsCountry_table_insert = (\"\"\"INSERT INTO accountscountry(\n",
    "country_code ,\n",
    "short_name ,\n",
    "table_name ,\n",
    "long_name ,\n",
    "currency_unit)\n",
    "VALUES (%s, %s, %s, %s, %s)\n",
    "\"\"\")"
   ]
  },
  {
   "cell_type": "code",
   "execution_count": null,
   "id": "32ba01e4",
   "metadata": {},
   "outputs": [],
   "source": [
    "for i, row in AccountsCountry_clean.iterrows():\n",
    "        cur.execute(AccountsCountry_table_insert, list(row))"
   ]
  },
  {
   "cell_type": "code",
   "execution_count": null,
   "id": "8d2f675a",
   "metadata": {},
   "outputs": [],
   "source": [
    "Accountsdata_table_insert = (\"\"\"INSERT INTO accountsdata(\n",
    "country_name ,\n",
    "country_code ,\n",
    "indicator_name ,\n",
    "indicator_code\n",
    ")\n",
    "VALUES (%s, %s, %s, %s, %s)\n",
    "\"\"\")\n",
    "\n"
   ]
  },
  {
   "cell_type": "code",
   "execution_count": null,
   "id": "b7de4cb2",
   "metadata": {},
   "outputs": [],
   "source": [
    "for i, row in AccountsData.iterrows():\n",
    "        cur.execute(accounts_data_table_insert, list(row))"
   ]
  },
  {
   "cell_type": "code",
   "execution_count": null,
   "id": "fb390d9d",
   "metadata": {},
   "outputs": [],
   "source": [
    "accountseries_data_table_insert = (\"\"\" INSERT INTO accountseries(\n",
    "code,\n",
    "indicator_name,\n",
    "long_definition, \n",
    "topic)\n",
    "VALUES (%s, %s, %s, %s)\n",
    "\"\"\")\n",
    "\n"
   ]
  },
  {
   "cell_type": "code",
   "execution_count": null,
   "id": "c823926f",
   "metadata": {},
   "outputs": [],
   "source": [
    "for i, row in AccountsSeries.iterrows():\n",
    "        cur.execute(accountseries_data_table_insert, list(row))"
   ]
  }
 ],
 "metadata": {
  "kernelspec": {
   "display_name": "Python 3 (ipykernel)",
   "language": "python",
   "name": "python3"
  },
  "language_info": {
   "codemirror_mode": {
    "name": "ipython",
    "version": 3
   },
   "file_extension": ".py",
   "mimetype": "text/x-python",
   "name": "python",
   "nbconvert_exporter": "python",
   "pygments_lexer": "ipython3",
   "version": "3.9.7"
  }
 },
 "nbformat": 4,
 "nbformat_minor": 5
}
